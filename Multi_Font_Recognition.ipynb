{
  "nbformat": 4,
  "nbformat_minor": 0,
  "metadata": {
    "colab": {
      "name": "Multi_Font_Recognision.ipynb",
      "provenance": [],
      "collapsed_sections": []
    },
    "kernelspec": {
      "name": "python3",
      "display_name": "Python 3"
    },
    "language_info": {
      "name": "python"
    }
  },
  "cells": [
    {
      "cell_type": "code",
      "source": [
        "!pip install scipy"
      ],
      "metadata": {
        "colab": {
          "base_uri": "https://localhost:8080/"
        },
        "id": "kaCMQQp2X_Q7",
        "outputId": "4679491c-e40e-4e6d-c9b1-cb60ba54cc40"
      },
      "execution_count": null,
      "outputs": [
        {
          "output_type": "stream",
          "name": "stdout",
          "text": [
            "Requirement already satisfied: scipy in /usr/local/lib/python3.7/dist-packages (1.4.1)\n",
            "Requirement already satisfied: numpy>=1.13.3 in /usr/local/lib/python3.7/dist-packages (from scipy) (1.21.5)\n"
          ]
        }
      ]
    },
    {
      "cell_type": "code",
      "source": [
        "! pip install scikit-optimize"
      ],
      "metadata": {
        "id": "5nL49eWZYidG",
        "colab": {
          "base_uri": "https://localhost:8080/"
        },
        "outputId": "01f5dd42-dbc8-4e4c-a79b-e5f90f4cbd3a"
      },
      "execution_count": null,
      "outputs": [
        {
          "output_type": "stream",
          "name": "stdout",
          "text": [
            "Collecting scikit-optimize\n",
            "  Downloading scikit_optimize-0.9.0-py2.py3-none-any.whl (100 kB)\n",
            "\u001b[?25l\r\u001b[K     |███▎                            | 10 kB 25.4 MB/s eta 0:00:01\r\u001b[K     |██████▌                         | 20 kB 10.4 MB/s eta 0:00:01\r\u001b[K     |█████████▉                      | 30 kB 9.0 MB/s eta 0:00:01\r\u001b[K     |█████████████                   | 40 kB 8.0 MB/s eta 0:00:01\r\u001b[K     |████████████████▍               | 51 kB 4.3 MB/s eta 0:00:01\r\u001b[K     |███████████████████▋            | 61 kB 5.1 MB/s eta 0:00:01\r\u001b[K     |██████████████████████▉         | 71 kB 5.6 MB/s eta 0:00:01\r\u001b[K     |██████████████████████████▏     | 81 kB 4.1 MB/s eta 0:00:01\r\u001b[K     |█████████████████████████████▍  | 92 kB 4.6 MB/s eta 0:00:01\r\u001b[K     |████████████████████████████████| 100 kB 2.7 MB/s \n",
            "\u001b[?25hRequirement already satisfied: scikit-learn>=0.20.0 in /usr/local/lib/python3.7/dist-packages (from scikit-optimize) (1.0.2)\n",
            "Requirement already satisfied: scipy>=0.19.1 in /usr/local/lib/python3.7/dist-packages (from scikit-optimize) (1.4.1)\n",
            "Requirement already satisfied: joblib>=0.11 in /usr/local/lib/python3.7/dist-packages (from scikit-optimize) (1.1.0)\n",
            "Collecting pyaml>=16.9\n",
            "  Downloading pyaml-21.10.1-py2.py3-none-any.whl (24 kB)\n",
            "Requirement already satisfied: numpy>=1.13.3 in /usr/local/lib/python3.7/dist-packages (from scikit-optimize) (1.21.5)\n",
            "Requirement already satisfied: PyYAML in /usr/local/lib/python3.7/dist-packages (from pyaml>=16.9->scikit-optimize) (3.13)\n",
            "Requirement already satisfied: threadpoolctl>=2.0.0 in /usr/local/lib/python3.7/dist-packages (from scikit-learn>=0.20.0->scikit-optimize) (3.1.0)\n",
            "Installing collected packages: pyaml, scikit-optimize\n",
            "Successfully installed pyaml-21.10.1 scikit-optimize-0.9.0\n"
          ]
        }
      ]
    },
    {
      "cell_type": "code",
      "source": [
        "import sklearn\n",
        "import skopt\n",
        "import matplotlib.pyplot as plt\n",
        "%matplotlib inline\n",
        "import numpy as np\n",
        "import pandas as pd\n",
        "import seaborn as sns\n",
        "from sklearn.model_selection import RepeatedKFold\n",
        "\n",
        "import tensorflow as tf\n",
        "from tensorflow import keras\n",
        "from keras.models import Sequential\n",
        "from keras.layers import Dense, Dropout\n",
        "\n",
        "## Importing required libraries\n",
        "import numpy as np\n",
        "from keras.models import Sequential\n",
        "from keras.layers import Dense, Dropout\n",
        "from sklearn.preprocessing import LabelBinarizer\n",
        "# fix random seed for reproducibility\n",
        "np.random.seed(5)"
      ],
      "metadata": {
        "id": "V383Ybt-Y-eG"
      },
      "execution_count": null,
      "outputs": []
    },
    {
      "cell_type": "code",
      "source": [
        "#Load data from local drive \n",
        "from google.colab import files\n",
        "uploaded = files.upload()"
      ],
      "metadata": {
        "colab": {
          "resources": {
            "http://localhost:8080/nbextensions/google.colab/files.js": {
              "data": "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",
              "ok": true,
              "headers": [
                [
                  "content-type",
                  "application/javascript"
                ]
              ],
              "status": 200,
              "status_text": ""
            }
          },
          "base_uri": "https://localhost:8080/",
          "height": 107
        },
        "id": "Ji-0knEFaiKi",
        "outputId": "15726d1a-d5c8-4bfe-fc0c-89a8d73b2d03"
      },
      "execution_count": null,
      "outputs": [
        {
          "output_type": "display_data",
          "data": {
            "text/html": [
              "\n",
              "     <input type=\"file\" id=\"files-55ea1b33-702c-466c-9dee-68d7288487dd\" name=\"files[]\" multiple disabled\n",
              "        style=\"border:none\" />\n",
              "     <output id=\"result-55ea1b33-702c-466c-9dee-68d7288487dd\">\n",
              "      Upload widget is only available when the cell has been executed in the\n",
              "      current browser session. Please rerun this cell to enable.\n",
              "      </output>\n",
              "      <script src=\"/nbextensions/google.colab/files.js\"></script> "
            ],
            "text/plain": [
              "<IPython.core.display.HTML object>"
            ]
          },
          "metadata": {}
        },
        {
          "output_type": "stream",
          "name": "stdout",
          "text": [
            "Saving font_test.csv to font_test (1).csv\n",
            "Saving font_train.csv to font_train (1).csv\n"
          ]
        }
      ]
    },
    {
      "cell_type": "code",
      "source": [
        "import pandas as pd\n",
        "import io\n",
        "train0 = pd.read_csv(io.BytesIO(uploaded['font_train.csv']))\n",
        "test0 = pd.read_csv(io.BytesIO(uploaded['font_test.csv']))\n",
        "train0.head()\n",
        "train0.shape\n",
        "test0.shape"
      ],
      "metadata": {
        "colab": {
          "base_uri": "https://localhost:8080/"
        },
        "id": "6Od19225akw8",
        "outputId": "4214965e-14c6-43e6-ae2b-fbc5e385a9dd"
      },
      "execution_count": null,
      "outputs": [
        {
          "output_type": "execute_result",
          "data": {
            "text/plain": [
              "(78, 40)"
            ]
          },
          "metadata": {},
          "execution_count": 62
        }
      ]
    },
    {
      "cell_type": "code",
      "source": [
        "#Clean the data\n",
        "train0.isna().sum()\n",
        "test0.isna().sum()"
      ],
      "metadata": {
        "id": "oT--_FJMarqJ"
      },
      "execution_count": null,
      "outputs": []
    },
    {
      "cell_type": "code",
      "source": [
        "#To see what data types we have(if we have categorical datatypes, encode them)\n",
        "train0.dtypes\n",
        "test0.dtypes"
      ],
      "metadata": {
        "id": "W37jm-dQatdS"
      },
      "execution_count": null,
      "outputs": []
    },
    {
      "cell_type": "code",
      "source": [
        "train0.duplicated()\n",
        "print(train0.duplicated().sum())"
      ],
      "metadata": {
        "colab": {
          "base_uri": "https://localhost:8080/"
        },
        "id": "1BIc7_31HqGF",
        "outputId": "0b11f2ec-f32d-4507-b5b9-886d3babaa89"
      },
      "execution_count": null,
      "outputs": [
        {
          "output_type": "stream",
          "name": "stdout",
          "text": [
            "8\n"
          ]
        }
      ]
    },
    {
      "cell_type": "code",
      "source": [
        "test0.duplicated()\n",
        "print(test0.duplicated().sum())"
      ],
      "metadata": {
        "colab": {
          "base_uri": "https://localhost:8080/"
        },
        "id": "HV2YfFkhNDvg",
        "outputId": "7fc0d6a8-5749-4044-8eca-89c7c9f1e90b"
      },
      "execution_count": null,
      "outputs": [
        {
          "output_type": "stream",
          "name": "stdout",
          "text": [
            "1\n"
          ]
        }
      ]
    },
    {
      "cell_type": "code",
      "source": [
        "#Inspect the data to see whether it needs to do normalization or not\n",
        "train1_stats = train1.describe()\n",
        "train1_stats = train1_stats.transpose()\n",
        "train1_stats.head()"
      ],
      "metadata": {
        "id": "nZOIXYPDPKlx",
        "colab": {
          "base_uri": "https://localhost:8080/",
          "height": 206
        },
        "outputId": "09143b8d-2958-46ca-fcb4-d3e9f6b50803"
      },
      "execution_count": null,
      "outputs": [
        {
          "output_type": "execute_result",
          "data": {
            "text/html": [
              "\n",
              "  <div id=\"df-4614ffef-52df-4cc0-ace7-f95a90b1ce4d\">\n",
              "    <div class=\"colab-df-container\">\n",
              "      <div>\n",
              "<style scoped>\n",
              "    .dataframe tbody tr th:only-of-type {\n",
              "        vertical-align: middle;\n",
              "    }\n",
              "\n",
              "    .dataframe tbody tr th {\n",
              "        vertical-align: top;\n",
              "    }\n",
              "\n",
              "    .dataframe thead th {\n",
              "        text-align: right;\n",
              "    }\n",
              "</style>\n",
              "<table border=\"1\" class=\"dataframe\">\n",
              "  <thead>\n",
              "    <tr style=\"text-align: right;\">\n",
              "      <th></th>\n",
              "      <th>count</th>\n",
              "      <th>mean</th>\n",
              "      <th>std</th>\n",
              "      <th>min</th>\n",
              "      <th>25%</th>\n",
              "      <th>50%</th>\n",
              "      <th>75%</th>\n",
              "      <th>max</th>\n",
              "    </tr>\n",
              "  </thead>\n",
              "  <tbody>\n",
              "    <tr>\n",
              "      <th>input1</th>\n",
              "      <td>77.0</td>\n",
              "      <td>7.870130</td>\n",
              "      <td>7.347306</td>\n",
              "      <td>0.0</td>\n",
              "      <td>0.0</td>\n",
              "      <td>8.0</td>\n",
              "      <td>12.0</td>\n",
              "      <td>27.0</td>\n",
              "    </tr>\n",
              "    <tr>\n",
              "      <th>input2</th>\n",
              "      <td>77.0</td>\n",
              "      <td>11.389610</td>\n",
              "      <td>6.947464</td>\n",
              "      <td>0.0</td>\n",
              "      <td>9.0</td>\n",
              "      <td>11.0</td>\n",
              "      <td>15.0</td>\n",
              "      <td>31.0</td>\n",
              "    </tr>\n",
              "    <tr>\n",
              "      <th>input3</th>\n",
              "      <td>77.0</td>\n",
              "      <td>2.337662</td>\n",
              "      <td>2.552658</td>\n",
              "      <td>0.0</td>\n",
              "      <td>0.0</td>\n",
              "      <td>2.0</td>\n",
              "      <td>4.0</td>\n",
              "      <td>10.0</td>\n",
              "    </tr>\n",
              "    <tr>\n",
              "      <th>input4</th>\n",
              "      <td>77.0</td>\n",
              "      <td>2.558442</td>\n",
              "      <td>2.935686</td>\n",
              "      <td>0.0</td>\n",
              "      <td>0.0</td>\n",
              "      <td>2.0</td>\n",
              "      <td>4.0</td>\n",
              "      <td>12.0</td>\n",
              "    </tr>\n",
              "    <tr>\n",
              "      <th>input5</th>\n",
              "      <td>77.0</td>\n",
              "      <td>0.194805</td>\n",
              "      <td>0.973855</td>\n",
              "      <td>0.0</td>\n",
              "      <td>0.0</td>\n",
              "      <td>0.0</td>\n",
              "      <td>0.0</td>\n",
              "      <td>5.0</td>\n",
              "    </tr>\n",
              "  </tbody>\n",
              "</table>\n",
              "</div>\n",
              "      <button class=\"colab-df-convert\" onclick=\"convertToInteractive('df-4614ffef-52df-4cc0-ace7-f95a90b1ce4d')\"\n",
              "              title=\"Convert this dataframe to an interactive table.\"\n",
              "              style=\"display:none;\">\n",
              "        \n",
              "  <svg xmlns=\"http://www.w3.org/2000/svg\" height=\"24px\"viewBox=\"0 0 24 24\"\n",
              "       width=\"24px\">\n",
              "    <path d=\"M0 0h24v24H0V0z\" fill=\"none\"/>\n",
              "    <path d=\"M18.56 5.44l.94 2.06.94-2.06 2.06-.94-2.06-.94-.94-2.06-.94 2.06-2.06.94zm-11 1L8.5 8.5l.94-2.06 2.06-.94-2.06-.94L8.5 2.5l-.94 2.06-2.06.94zm10 10l.94 2.06.94-2.06 2.06-.94-2.06-.94-.94-2.06-.94 2.06-2.06.94z\"/><path d=\"M17.41 7.96l-1.37-1.37c-.4-.4-.92-.59-1.43-.59-.52 0-1.04.2-1.43.59L10.3 9.45l-7.72 7.72c-.78.78-.78 2.05 0 2.83L4 21.41c.39.39.9.59 1.41.59.51 0 1.02-.2 1.41-.59l7.78-7.78 2.81-2.81c.8-.78.8-2.07 0-2.86zM5.41 20L4 18.59l7.72-7.72 1.47 1.35L5.41 20z\"/>\n",
              "  </svg>\n",
              "      </button>\n",
              "      \n",
              "  <style>\n",
              "    .colab-df-container {\n",
              "      display:flex;\n",
              "      flex-wrap:wrap;\n",
              "      gap: 12px;\n",
              "    }\n",
              "\n",
              "    .colab-df-convert {\n",
              "      background-color: #E8F0FE;\n",
              "      border: none;\n",
              "      border-radius: 50%;\n",
              "      cursor: pointer;\n",
              "      display: none;\n",
              "      fill: #1967D2;\n",
              "      height: 32px;\n",
              "      padding: 0 0 0 0;\n",
              "      width: 32px;\n",
              "    }\n",
              "\n",
              "    .colab-df-convert:hover {\n",
              "      background-color: #E2EBFA;\n",
              "      box-shadow: 0px 1px 2px rgba(60, 64, 67, 0.3), 0px 1px 3px 1px rgba(60, 64, 67, 0.15);\n",
              "      fill: #174EA6;\n",
              "    }\n",
              "\n",
              "    [theme=dark] .colab-df-convert {\n",
              "      background-color: #3B4455;\n",
              "      fill: #D2E3FC;\n",
              "    }\n",
              "\n",
              "    [theme=dark] .colab-df-convert:hover {\n",
              "      background-color: #434B5C;\n",
              "      box-shadow: 0px 1px 3px 1px rgba(0, 0, 0, 0.15);\n",
              "      filter: drop-shadow(0px 1px 2px rgba(0, 0, 0, 0.3));\n",
              "      fill: #FFFFFF;\n",
              "    }\n",
              "  </style>\n",
              "\n",
              "      <script>\n",
              "        const buttonEl =\n",
              "          document.querySelector('#df-4614ffef-52df-4cc0-ace7-f95a90b1ce4d button.colab-df-convert');\n",
              "        buttonEl.style.display =\n",
              "          google.colab.kernel.accessAllowed ? 'block' : 'none';\n",
              "\n",
              "        async function convertToInteractive(key) {\n",
              "          const element = document.querySelector('#df-4614ffef-52df-4cc0-ace7-f95a90b1ce4d');\n",
              "          const dataTable =\n",
              "            await google.colab.kernel.invokeFunction('convertToInteractive',\n",
              "                                                     [key], {});\n",
              "          if (!dataTable) return;\n",
              "\n",
              "          const docLinkHtml = 'Like what you see? Visit the ' +\n",
              "            '<a target=\"_blank\" href=https://colab.research.google.com/notebooks/data_table.ipynb>data table notebook</a>'\n",
              "            + ' to learn more about interactive tables.';\n",
              "          element.innerHTML = '';\n",
              "          dataTable['output_type'] = 'display_data';\n",
              "          await google.colab.output.renderOutput(dataTable, element);\n",
              "          const docLink = document.createElement('div');\n",
              "          docLink.innerHTML = docLinkHtml;\n",
              "          element.appendChild(docLink);\n",
              "        }\n",
              "      </script>\n",
              "    </div>\n",
              "  </div>\n",
              "  "
            ],
            "text/plain": [
              "        count       mean       std  min  25%   50%   75%   max\n",
              "input1   77.0   7.870130  7.347306  0.0  0.0   8.0  12.0  27.0\n",
              "input2   77.0  11.389610  6.947464  0.0  9.0  11.0  15.0  31.0\n",
              "input3   77.0   2.337662  2.552658  0.0  0.0   2.0   4.0  10.0\n",
              "input4   77.0   2.558442  2.935686  0.0  0.0   2.0   4.0  12.0\n",
              "input5   77.0   0.194805  0.973855  0.0  0.0   0.0   0.0   5.0"
            ]
          },
          "metadata": {},
          "execution_count": 22
        }
      ]
    },
    {
      "cell_type": "code",
      "source": [
        "#Normalization\n",
        "train2=(train0 - train0.min())/(train0.max() - train0.min())\n",
        "train2.head()"
      ],
      "metadata": {
        "colab": {
          "base_uri": "https://localhost:8080/",
          "height": 236
        },
        "id": "p5CqvBRJ8u6d",
        "outputId": "3adf0d42-da35-4eb0-8005-6a43d8e31b04"
      },
      "execution_count": null,
      "outputs": [
        {
          "output_type": "execute_result",
          "data": {
            "text/html": [
              "\n",
              "  <div id=\"df-0fc1b4b8-8cb6-4dbe-8856-a04b654b9539\">\n",
              "    <div class=\"colab-df-container\">\n",
              "      <div>\n",
              "<style scoped>\n",
              "    .dataframe tbody tr th:only-of-type {\n",
              "        vertical-align: middle;\n",
              "    }\n",
              "\n",
              "    .dataframe tbody tr th {\n",
              "        vertical-align: top;\n",
              "    }\n",
              "\n",
              "    .dataframe thead th {\n",
              "        text-align: right;\n",
              "    }\n",
              "</style>\n",
              "<table border=\"1\" class=\"dataframe\">\n",
              "  <thead>\n",
              "    <tr style=\"text-align: right;\">\n",
              "      <th></th>\n",
              "      <th>input1</th>\n",
              "      <th>input2</th>\n",
              "      <th>input3</th>\n",
              "      <th>input4</th>\n",
              "      <th>input5</th>\n",
              "      <th>input6</th>\n",
              "      <th>input7</th>\n",
              "      <th>input8</th>\n",
              "      <th>input9</th>\n",
              "      <th>input10</th>\n",
              "      <th>...</th>\n",
              "      <th>Q</th>\n",
              "      <th>R</th>\n",
              "      <th>S</th>\n",
              "      <th>T</th>\n",
              "      <th>U</th>\n",
              "      <th>V</th>\n",
              "      <th>W</th>\n",
              "      <th>X</th>\n",
              "      <th>Y</th>\n",
              "      <th>Z</th>\n",
              "    </tr>\n",
              "  </thead>\n",
              "  <tbody>\n",
              "    <tr>\n",
              "      <th>0</th>\n",
              "      <td>0.296296</td>\n",
              "      <td>0.000000</td>\n",
              "      <td>0.0</td>\n",
              "      <td>0.000000</td>\n",
              "      <td>0.0</td>\n",
              "      <td>0.000000</td>\n",
              "      <td>0.000</td>\n",
              "      <td>0.0</td>\n",
              "      <td>0.000000</td>\n",
              "      <td>0.000000</td>\n",
              "      <td>...</td>\n",
              "      <td>0.0</td>\n",
              "      <td>0.0</td>\n",
              "      <td>0.0</td>\n",
              "      <td>0.0</td>\n",
              "      <td>0.0</td>\n",
              "      <td>0.0</td>\n",
              "      <td>0.0</td>\n",
              "      <td>0.0</td>\n",
              "      <td>0.0</td>\n",
              "      <td>0.0</td>\n",
              "    </tr>\n",
              "    <tr>\n",
              "      <th>1</th>\n",
              "      <td>0.259259</td>\n",
              "      <td>0.000000</td>\n",
              "      <td>0.0</td>\n",
              "      <td>0.000000</td>\n",
              "      <td>0.0</td>\n",
              "      <td>0.000000</td>\n",
              "      <td>0.000</td>\n",
              "      <td>0.0</td>\n",
              "      <td>0.000000</td>\n",
              "      <td>0.000000</td>\n",
              "      <td>...</td>\n",
              "      <td>0.0</td>\n",
              "      <td>0.0</td>\n",
              "      <td>0.0</td>\n",
              "      <td>0.0</td>\n",
              "      <td>0.0</td>\n",
              "      <td>0.0</td>\n",
              "      <td>0.0</td>\n",
              "      <td>0.0</td>\n",
              "      <td>0.0</td>\n",
              "      <td>0.0</td>\n",
              "    </tr>\n",
              "    <tr>\n",
              "      <th>2</th>\n",
              "      <td>0.444444</td>\n",
              "      <td>0.322581</td>\n",
              "      <td>0.1</td>\n",
              "      <td>0.083333</td>\n",
              "      <td>0.0</td>\n",
              "      <td>0.000000</td>\n",
              "      <td>0.000</td>\n",
              "      <td>0.8</td>\n",
              "      <td>0.666667</td>\n",
              "      <td>0.000000</td>\n",
              "      <td>...</td>\n",
              "      <td>0.0</td>\n",
              "      <td>0.0</td>\n",
              "      <td>0.0</td>\n",
              "      <td>0.0</td>\n",
              "      <td>0.0</td>\n",
              "      <td>0.0</td>\n",
              "      <td>0.0</td>\n",
              "      <td>0.0</td>\n",
              "      <td>0.0</td>\n",
              "      <td>0.0</td>\n",
              "    </tr>\n",
              "    <tr>\n",
              "      <th>3</th>\n",
              "      <td>0.777778</td>\n",
              "      <td>0.322581</td>\n",
              "      <td>0.4</td>\n",
              "      <td>0.333333</td>\n",
              "      <td>0.0</td>\n",
              "      <td>0.090909</td>\n",
              "      <td>0.125</td>\n",
              "      <td>0.0</td>\n",
              "      <td>0.555556</td>\n",
              "      <td>0.000000</td>\n",
              "      <td>...</td>\n",
              "      <td>0.0</td>\n",
              "      <td>0.0</td>\n",
              "      <td>0.0</td>\n",
              "      <td>0.0</td>\n",
              "      <td>0.0</td>\n",
              "      <td>0.0</td>\n",
              "      <td>0.0</td>\n",
              "      <td>0.0</td>\n",
              "      <td>0.0</td>\n",
              "      <td>0.0</td>\n",
              "    </tr>\n",
              "    <tr>\n",
              "      <th>4</th>\n",
              "      <td>1.000000</td>\n",
              "      <td>0.387097</td>\n",
              "      <td>0.3</td>\n",
              "      <td>0.250000</td>\n",
              "      <td>0.0</td>\n",
              "      <td>0.727273</td>\n",
              "      <td>0.000</td>\n",
              "      <td>1.0</td>\n",
              "      <td>0.000000</td>\n",
              "      <td>0.666667</td>\n",
              "      <td>...</td>\n",
              "      <td>0.0</td>\n",
              "      <td>0.0</td>\n",
              "      <td>0.0</td>\n",
              "      <td>0.0</td>\n",
              "      <td>0.0</td>\n",
              "      <td>0.0</td>\n",
              "      <td>0.0</td>\n",
              "      <td>0.0</td>\n",
              "      <td>0.0</td>\n",
              "      <td>0.0</td>\n",
              "    </tr>\n",
              "  </tbody>\n",
              "</table>\n",
              "<p>5 rows × 40 columns</p>\n",
              "</div>\n",
              "      <button class=\"colab-df-convert\" onclick=\"convertToInteractive('df-0fc1b4b8-8cb6-4dbe-8856-a04b654b9539')\"\n",
              "              title=\"Convert this dataframe to an interactive table.\"\n",
              "              style=\"display:none;\">\n",
              "        \n",
              "  <svg xmlns=\"http://www.w3.org/2000/svg\" height=\"24px\"viewBox=\"0 0 24 24\"\n",
              "       width=\"24px\">\n",
              "    <path d=\"M0 0h24v24H0V0z\" fill=\"none\"/>\n",
              "    <path d=\"M18.56 5.44l.94 2.06.94-2.06 2.06-.94-2.06-.94-.94-2.06-.94 2.06-2.06.94zm-11 1L8.5 8.5l.94-2.06 2.06-.94-2.06-.94L8.5 2.5l-.94 2.06-2.06.94zm10 10l.94 2.06.94-2.06 2.06-.94-2.06-.94-.94-2.06-.94 2.06-2.06.94z\"/><path d=\"M17.41 7.96l-1.37-1.37c-.4-.4-.92-.59-1.43-.59-.52 0-1.04.2-1.43.59L10.3 9.45l-7.72 7.72c-.78.78-.78 2.05 0 2.83L4 21.41c.39.39.9.59 1.41.59.51 0 1.02-.2 1.41-.59l7.78-7.78 2.81-2.81c.8-.78.8-2.07 0-2.86zM5.41 20L4 18.59l7.72-7.72 1.47 1.35L5.41 20z\"/>\n",
              "  </svg>\n",
              "      </button>\n",
              "      \n",
              "  <style>\n",
              "    .colab-df-container {\n",
              "      display:flex;\n",
              "      flex-wrap:wrap;\n",
              "      gap: 12px;\n",
              "    }\n",
              "\n",
              "    .colab-df-convert {\n",
              "      background-color: #E8F0FE;\n",
              "      border: none;\n",
              "      border-radius: 50%;\n",
              "      cursor: pointer;\n",
              "      display: none;\n",
              "      fill: #1967D2;\n",
              "      height: 32px;\n",
              "      padding: 0 0 0 0;\n",
              "      width: 32px;\n",
              "    }\n",
              "\n",
              "    .colab-df-convert:hover {\n",
              "      background-color: #E2EBFA;\n",
              "      box-shadow: 0px 1px 2px rgba(60, 64, 67, 0.3), 0px 1px 3px 1px rgba(60, 64, 67, 0.15);\n",
              "      fill: #174EA6;\n",
              "    }\n",
              "\n",
              "    [theme=dark] .colab-df-convert {\n",
              "      background-color: #3B4455;\n",
              "      fill: #D2E3FC;\n",
              "    }\n",
              "\n",
              "    [theme=dark] .colab-df-convert:hover {\n",
              "      background-color: #434B5C;\n",
              "      box-shadow: 0px 1px 3px 1px rgba(0, 0, 0, 0.15);\n",
              "      filter: drop-shadow(0px 1px 2px rgba(0, 0, 0, 0.3));\n",
              "      fill: #FFFFFF;\n",
              "    }\n",
              "  </style>\n",
              "\n",
              "      <script>\n",
              "        const buttonEl =\n",
              "          document.querySelector('#df-0fc1b4b8-8cb6-4dbe-8856-a04b654b9539 button.colab-df-convert');\n",
              "        buttonEl.style.display =\n",
              "          google.colab.kernel.accessAllowed ? 'block' : 'none';\n",
              "\n",
              "        async function convertToInteractive(key) {\n",
              "          const element = document.querySelector('#df-0fc1b4b8-8cb6-4dbe-8856-a04b654b9539');\n",
              "          const dataTable =\n",
              "            await google.colab.kernel.invokeFunction('convertToInteractive',\n",
              "                                                     [key], {});\n",
              "          if (!dataTable) return;\n",
              "\n",
              "          const docLinkHtml = 'Like what you see? Visit the ' +\n",
              "            '<a target=\"_blank\" href=https://colab.research.google.com/notebooks/data_table.ipynb>data table notebook</a>'\n",
              "            + ' to learn more about interactive tables.';\n",
              "          element.innerHTML = '';\n",
              "          dataTable['output_type'] = 'display_data';\n",
              "          await google.colab.output.renderOutput(dataTable, element);\n",
              "          const docLink = document.createElement('div');\n",
              "          docLink.innerHTML = docLinkHtml;\n",
              "          element.appendChild(docLink);\n",
              "        }\n",
              "      </script>\n",
              "    </div>\n",
              "  </div>\n",
              "  "
            ],
            "text/plain": [
              "     input1    input2  input3    input4  input5    input6  input7  input8  \\\n",
              "0  0.296296  0.000000     0.0  0.000000     0.0  0.000000   0.000     0.0   \n",
              "1  0.259259  0.000000     0.0  0.000000     0.0  0.000000   0.000     0.0   \n",
              "2  0.444444  0.322581     0.1  0.083333     0.0  0.000000   0.000     0.8   \n",
              "3  0.777778  0.322581     0.4  0.333333     0.0  0.090909   0.125     0.0   \n",
              "4  1.000000  0.387097     0.3  0.250000     0.0  0.727273   0.000     1.0   \n",
              "\n",
              "     input9   input10  ...    Q    R    S    T    U    V    W    X    Y    Z  \n",
              "0  0.000000  0.000000  ...  0.0  0.0  0.0  0.0  0.0  0.0  0.0  0.0  0.0  0.0  \n",
              "1  0.000000  0.000000  ...  0.0  0.0  0.0  0.0  0.0  0.0  0.0  0.0  0.0  0.0  \n",
              "2  0.666667  0.000000  ...  0.0  0.0  0.0  0.0  0.0  0.0  0.0  0.0  0.0  0.0  \n",
              "3  0.555556  0.000000  ...  0.0  0.0  0.0  0.0  0.0  0.0  0.0  0.0  0.0  0.0  \n",
              "4  0.000000  0.666667  ...  0.0  0.0  0.0  0.0  0.0  0.0  0.0  0.0  0.0  0.0  \n",
              "\n",
              "[5 rows x 40 columns]"
            ]
          },
          "metadata": {},
          "execution_count": 63
        }
      ]
    },
    {
      "cell_type": "code",
      "source": [
        "#Normalization\n",
        "test2=(test0 - train0.min())/(train0.max() - train0.min())\n",
        "test2.head()"
      ],
      "metadata": {
        "colab": {
          "base_uri": "https://localhost:8080/",
          "height": 236
        },
        "id": "I6Pves0P9CJq",
        "outputId": "cffdbb1a-af22-4f31-93d0-47e5f282ba0a"
      },
      "execution_count": null,
      "outputs": [
        {
          "output_type": "execute_result",
          "data": {
            "text/html": [
              "\n",
              "  <div id=\"df-ca543d74-f4ca-4674-a04a-914c960ac9f6\">\n",
              "    <div class=\"colab-df-container\">\n",
              "      <div>\n",
              "<style scoped>\n",
              "    .dataframe tbody tr th:only-of-type {\n",
              "        vertical-align: middle;\n",
              "    }\n",
              "\n",
              "    .dataframe tbody tr th {\n",
              "        vertical-align: top;\n",
              "    }\n",
              "\n",
              "    .dataframe thead th {\n",
              "        text-align: right;\n",
              "    }\n",
              "</style>\n",
              "<table border=\"1\" class=\"dataframe\">\n",
              "  <thead>\n",
              "    <tr style=\"text-align: right;\">\n",
              "      <th></th>\n",
              "      <th>input1</th>\n",
              "      <th>input2</th>\n",
              "      <th>input3</th>\n",
              "      <th>input4</th>\n",
              "      <th>input5</th>\n",
              "      <th>input6</th>\n",
              "      <th>input7</th>\n",
              "      <th>input8</th>\n",
              "      <th>input9</th>\n",
              "      <th>input10</th>\n",
              "      <th>...</th>\n",
              "      <th>Q</th>\n",
              "      <th>R</th>\n",
              "      <th>S</th>\n",
              "      <th>T</th>\n",
              "      <th>U</th>\n",
              "      <th>V</th>\n",
              "      <th>W</th>\n",
              "      <th>X</th>\n",
              "      <th>Y</th>\n",
              "      <th>Z</th>\n",
              "    </tr>\n",
              "  </thead>\n",
              "  <tbody>\n",
              "    <tr>\n",
              "      <th>0</th>\n",
              "      <td>0.259259</td>\n",
              "      <td>0.000000</td>\n",
              "      <td>0.0</td>\n",
              "      <td>0.000000</td>\n",
              "      <td>0.0</td>\n",
              "      <td>0.000000</td>\n",
              "      <td>0.000</td>\n",
              "      <td>0.0</td>\n",
              "      <td>0.0</td>\n",
              "      <td>0.000000</td>\n",
              "      <td>...</td>\n",
              "      <td>0.0</td>\n",
              "      <td>0.0</td>\n",
              "      <td>0.0</td>\n",
              "      <td>0.0</td>\n",
              "      <td>0.0</td>\n",
              "      <td>0.0</td>\n",
              "      <td>0.0</td>\n",
              "      <td>0.0</td>\n",
              "      <td>0.0</td>\n",
              "      <td>0.0</td>\n",
              "    </tr>\n",
              "    <tr>\n",
              "      <th>1</th>\n",
              "      <td>0.259259</td>\n",
              "      <td>0.000000</td>\n",
              "      <td>0.0</td>\n",
              "      <td>0.000000</td>\n",
              "      <td>0.0</td>\n",
              "      <td>0.000000</td>\n",
              "      <td>0.000</td>\n",
              "      <td>0.0</td>\n",
              "      <td>0.0</td>\n",
              "      <td>0.000000</td>\n",
              "      <td>...</td>\n",
              "      <td>0.0</td>\n",
              "      <td>0.0</td>\n",
              "      <td>0.0</td>\n",
              "      <td>0.0</td>\n",
              "      <td>0.0</td>\n",
              "      <td>0.0</td>\n",
              "      <td>0.0</td>\n",
              "      <td>0.0</td>\n",
              "      <td>0.0</td>\n",
              "      <td>0.0</td>\n",
              "    </tr>\n",
              "    <tr>\n",
              "      <th>2</th>\n",
              "      <td>0.222222</td>\n",
              "      <td>0.161290</td>\n",
              "      <td>0.0</td>\n",
              "      <td>0.500000</td>\n",
              "      <td>0.0</td>\n",
              "      <td>0.000000</td>\n",
              "      <td>1.125</td>\n",
              "      <td>0.0</td>\n",
              "      <td>0.0</td>\n",
              "      <td>0.000000</td>\n",
              "      <td>...</td>\n",
              "      <td>0.0</td>\n",
              "      <td>0.0</td>\n",
              "      <td>0.0</td>\n",
              "      <td>0.0</td>\n",
              "      <td>0.0</td>\n",
              "      <td>0.0</td>\n",
              "      <td>0.0</td>\n",
              "      <td>0.0</td>\n",
              "      <td>0.0</td>\n",
              "      <td>0.0</td>\n",
              "    </tr>\n",
              "    <tr>\n",
              "      <th>3</th>\n",
              "      <td>1.000000</td>\n",
              "      <td>0.451613</td>\n",
              "      <td>0.2</td>\n",
              "      <td>0.166667</td>\n",
              "      <td>0.0</td>\n",
              "      <td>0.727273</td>\n",
              "      <td>0.000</td>\n",
              "      <td>1.0</td>\n",
              "      <td>0.0</td>\n",
              "      <td>0.666667</td>\n",
              "      <td>...</td>\n",
              "      <td>0.0</td>\n",
              "      <td>0.0</td>\n",
              "      <td>0.0</td>\n",
              "      <td>0.0</td>\n",
              "      <td>0.0</td>\n",
              "      <td>0.0</td>\n",
              "      <td>0.0</td>\n",
              "      <td>0.0</td>\n",
              "      <td>0.0</td>\n",
              "      <td>0.0</td>\n",
              "    </tr>\n",
              "    <tr>\n",
              "      <th>4</th>\n",
              "      <td>1.000000</td>\n",
              "      <td>0.387097</td>\n",
              "      <td>0.2</td>\n",
              "      <td>0.166667</td>\n",
              "      <td>0.0</td>\n",
              "      <td>0.727273</td>\n",
              "      <td>0.000</td>\n",
              "      <td>1.0</td>\n",
              "      <td>0.0</td>\n",
              "      <td>0.666667</td>\n",
              "      <td>...</td>\n",
              "      <td>0.0</td>\n",
              "      <td>0.0</td>\n",
              "      <td>0.0</td>\n",
              "      <td>0.0</td>\n",
              "      <td>0.0</td>\n",
              "      <td>0.0</td>\n",
              "      <td>0.0</td>\n",
              "      <td>0.0</td>\n",
              "      <td>0.0</td>\n",
              "      <td>0.0</td>\n",
              "    </tr>\n",
              "  </tbody>\n",
              "</table>\n",
              "<p>5 rows × 40 columns</p>\n",
              "</div>\n",
              "      <button class=\"colab-df-convert\" onclick=\"convertToInteractive('df-ca543d74-f4ca-4674-a04a-914c960ac9f6')\"\n",
              "              title=\"Convert this dataframe to an interactive table.\"\n",
              "              style=\"display:none;\">\n",
              "        \n",
              "  <svg xmlns=\"http://www.w3.org/2000/svg\" height=\"24px\"viewBox=\"0 0 24 24\"\n",
              "       width=\"24px\">\n",
              "    <path d=\"M0 0h24v24H0V0z\" fill=\"none\"/>\n",
              "    <path d=\"M18.56 5.44l.94 2.06.94-2.06 2.06-.94-2.06-.94-.94-2.06-.94 2.06-2.06.94zm-11 1L8.5 8.5l.94-2.06 2.06-.94-2.06-.94L8.5 2.5l-.94 2.06-2.06.94zm10 10l.94 2.06.94-2.06 2.06-.94-2.06-.94-.94-2.06-.94 2.06-2.06.94z\"/><path d=\"M17.41 7.96l-1.37-1.37c-.4-.4-.92-.59-1.43-.59-.52 0-1.04.2-1.43.59L10.3 9.45l-7.72 7.72c-.78.78-.78 2.05 0 2.83L4 21.41c.39.39.9.59 1.41.59.51 0 1.02-.2 1.41-.59l7.78-7.78 2.81-2.81c.8-.78.8-2.07 0-2.86zM5.41 20L4 18.59l7.72-7.72 1.47 1.35L5.41 20z\"/>\n",
              "  </svg>\n",
              "      </button>\n",
              "      \n",
              "  <style>\n",
              "    .colab-df-container {\n",
              "      display:flex;\n",
              "      flex-wrap:wrap;\n",
              "      gap: 12px;\n",
              "    }\n",
              "\n",
              "    .colab-df-convert {\n",
              "      background-color: #E8F0FE;\n",
              "      border: none;\n",
              "      border-radius: 50%;\n",
              "      cursor: pointer;\n",
              "      display: none;\n",
              "      fill: #1967D2;\n",
              "      height: 32px;\n",
              "      padding: 0 0 0 0;\n",
              "      width: 32px;\n",
              "    }\n",
              "\n",
              "    .colab-df-convert:hover {\n",
              "      background-color: #E2EBFA;\n",
              "      box-shadow: 0px 1px 2px rgba(60, 64, 67, 0.3), 0px 1px 3px 1px rgba(60, 64, 67, 0.15);\n",
              "      fill: #174EA6;\n",
              "    }\n",
              "\n",
              "    [theme=dark] .colab-df-convert {\n",
              "      background-color: #3B4455;\n",
              "      fill: #D2E3FC;\n",
              "    }\n",
              "\n",
              "    [theme=dark] .colab-df-convert:hover {\n",
              "      background-color: #434B5C;\n",
              "      box-shadow: 0px 1px 3px 1px rgba(0, 0, 0, 0.15);\n",
              "      filter: drop-shadow(0px 1px 2px rgba(0, 0, 0, 0.3));\n",
              "      fill: #FFFFFF;\n",
              "    }\n",
              "  </style>\n",
              "\n",
              "      <script>\n",
              "        const buttonEl =\n",
              "          document.querySelector('#df-ca543d74-f4ca-4674-a04a-914c960ac9f6 button.colab-df-convert');\n",
              "        buttonEl.style.display =\n",
              "          google.colab.kernel.accessAllowed ? 'block' : 'none';\n",
              "\n",
              "        async function convertToInteractive(key) {\n",
              "          const element = document.querySelector('#df-ca543d74-f4ca-4674-a04a-914c960ac9f6');\n",
              "          const dataTable =\n",
              "            await google.colab.kernel.invokeFunction('convertToInteractive',\n",
              "                                                     [key], {});\n",
              "          if (!dataTable) return;\n",
              "\n",
              "          const docLinkHtml = 'Like what you see? Visit the ' +\n",
              "            '<a target=\"_blank\" href=https://colab.research.google.com/notebooks/data_table.ipynb>data table notebook</a>'\n",
              "            + ' to learn more about interactive tables.';\n",
              "          element.innerHTML = '';\n",
              "          dataTable['output_type'] = 'display_data';\n",
              "          await google.colab.output.renderOutput(dataTable, element);\n",
              "          const docLink = document.createElement('div');\n",
              "          docLink.innerHTML = docLinkHtml;\n",
              "          element.appendChild(docLink);\n",
              "        }\n",
              "      </script>\n",
              "    </div>\n",
              "  </div>\n",
              "  "
            ],
            "text/plain": [
              "     input1    input2  input3    input4  input5    input6  input7  input8  \\\n",
              "0  0.259259  0.000000     0.0  0.000000     0.0  0.000000   0.000     0.0   \n",
              "1  0.259259  0.000000     0.0  0.000000     0.0  0.000000   0.000     0.0   \n",
              "2  0.222222  0.161290     0.0  0.500000     0.0  0.000000   1.125     0.0   \n",
              "3  1.000000  0.451613     0.2  0.166667     0.0  0.727273   0.000     1.0   \n",
              "4  1.000000  0.387097     0.2  0.166667     0.0  0.727273   0.000     1.0   \n",
              "\n",
              "   input9   input10  ...    Q    R    S    T    U    V    W    X    Y    Z  \n",
              "0     0.0  0.000000  ...  0.0  0.0  0.0  0.0  0.0  0.0  0.0  0.0  0.0  0.0  \n",
              "1     0.0  0.000000  ...  0.0  0.0  0.0  0.0  0.0  0.0  0.0  0.0  0.0  0.0  \n",
              "2     0.0  0.000000  ...  0.0  0.0  0.0  0.0  0.0  0.0  0.0  0.0  0.0  0.0  \n",
              "3     0.0  0.666667  ...  0.0  0.0  0.0  0.0  0.0  0.0  0.0  0.0  0.0  0.0  \n",
              "4     0.0  0.666667  ...  0.0  0.0  0.0  0.0  0.0  0.0  0.0  0.0  0.0  0.0  \n",
              "\n",
              "[5 rows x 40 columns]"
            ]
          },
          "metadata": {},
          "execution_count": 64
        }
      ]
    },
    {
      "cell_type": "code",
      "source": [
        "#Normalization\n",
        "#train2=(train1 - train1.min())/(train1.max() - train1.min())\n",
        "#train2.head()"
      ],
      "metadata": {
        "id": "xHIBCEyqkHHo"
      },
      "execution_count": null,
      "outputs": []
    },
    {
      "cell_type": "code",
      "source": [
        "#Normalization\n",
        "#test2=(test1 - train1.min())/(train1.max() - train1.min())\n",
        "#test2.head()"
      ],
      "metadata": {
        "id": "Miv0NY9ekK6b"
      },
      "execution_count": null,
      "outputs": []
    },
    {
      "cell_type": "code",
      "source": [
        "#Split features from labels\n",
        "#Separate the target values from the features. This targets are the values that we will train the model to predict.\n",
        "train2_features = train2.copy()\n",
        "test2_features = test2.copy()\n",
        "train2_labels = train2_features.iloc[:, 14:40]\n",
        "\n",
        "train2_features.drop(['A','B','C','D','E','F','G','H','I','J','K','L','M','N','O','P','Q','R','S','T','U','V','W','X','Y','Z'], axis = 1, inplace = True)\n",
        "print(train2_features.shape)\n",
        "print(train2_labels.shape)"
      ],
      "metadata": {
        "colab": {
          "base_uri": "https://localhost:8080/"
        },
        "id": "LdYyr1dQa3Ia",
        "outputId": "a092473f-a648-4bc0-a678-3fdd49322b93"
      },
      "execution_count": null,
      "outputs": [
        {
          "output_type": "stream",
          "name": "stdout",
          "text": [
            "(78, 14)\n",
            "(78, 26)\n"
          ]
        }
      ]
    },
    {
      "cell_type": "code",
      "source": [
        "#Split features from labels\n",
        "#Separate the target values from the features. This targets are the values that we will train the model to predict.\n",
        "test2_features = test2.copy()\n",
        "test2_labels = test2_features.iloc[:, 14:40]\n",
        "\n",
        "test2_features.drop(['A','B','C','D','E','F','G','H','I','J','K','L','M','N','O','P','Q','R','S','T','U','V','W','X','Y','Z'], axis = 1, inplace = True)\n",
        "print(test2_features.shape)\n",
        "print(test2_labels.shape)"
      ],
      "metadata": {
        "colab": {
          "base_uri": "https://localhost:8080/"
        },
        "id": "aWcykN-CbWB1",
        "outputId": "2556b65a-baca-4d61-ddff-a163518eaae4"
      },
      "execution_count": null,
      "outputs": [
        {
          "output_type": "stream",
          "name": "stdout",
          "text": [
            "(78, 14)\n",
            "(78, 26)\n"
          ]
        }
      ]
    },
    {
      "cell_type": "code",
      "source": [
        "# Change train and test datasets from matrix to array:\n",
        "X_train = train2_features.to_numpy()\n",
        "y_train = train2_labels.to_numpy()\n",
        "X_test = test2_features.to_numpy()\n",
        "y_test = test2_labels.to_numpy()\n",
        "X_train = X_train.reshape([X_train.shape[0], -1])\n",
        "X_test = X_test.reshape([X_test.shape[0], -1])\n",
        "\n",
        "y_train= train2_labels\n",
        "y_test= test2_labels\n",
        "# Printing dimensions\n",
        "print(X_train.shape, y_train.shape)"
      ],
      "metadata": {
        "colab": {
          "base_uri": "https://localhost:8080/"
        },
        "id": "OCX0xvFRky3c",
        "outputId": "2a33f668-0f0a-43bc-8699-a3f0f24d1df9"
      },
      "execution_count": null,
      "outputs": [
        {
          "output_type": "stream",
          "name": "stdout",
          "text": [
            "(78, 14) (78, 26)\n"
          ]
        }
      ]
    },
    {
      "cell_type": "code",
      "source": [
        "X_train[0].shape"
      ],
      "metadata": {
        "colab": {
          "base_uri": "https://localhost:8080/"
        },
        "id": "OA4URYgurPsW",
        "outputId": "43f395f2-43ef-4dad-91de-a7e5a35332bd"
      },
      "execution_count": null,
      "outputs": [
        {
          "output_type": "execute_result",
          "data": {
            "text/plain": [
              "(14,)"
            ]
          },
          "metadata": {},
          "execution_count": 68
        }
      ]
    },
    {
      "cell_type": "code",
      "source": [
        "#Define a model with a single layer\n",
        "model = keras.Sequential([\n",
        "                  keras.layers.Dense(26, input_shape=(14,), activation='sigmoid')\n",
        "])\n",
        "\n",
        "model.compile(\n",
        "    optimizer='adam',\n",
        "    loss='categorical_crossentropy',\n",
        "    metrics=['accuracy']\n",
        ")\n",
        "\n",
        "model.fit(X_train, y_train, epochs=50)"
      ],
      "metadata": {
        "id": "z9ToC0dAYFp2",
        "colab": {
          "base_uri": "https://localhost:8080/"
        },
        "outputId": "2f09705a-cad4-4081-9ef4-d1b251f0fcf7"
      },
      "execution_count": null,
      "outputs": [
        {
          "output_type": "stream",
          "name": "stdout",
          "text": [
            "Epoch 1/50\n",
            "3/3 [==============================] - 0s 5ms/step - loss: -0.7244 - accuracy: 0.0256\n",
            "Epoch 2/50\n",
            "3/3 [==============================] - 0s 4ms/step - loss: -0.8344 - accuracy: 0.0256\n",
            "Epoch 3/50\n",
            "3/3 [==============================] - 0s 5ms/step - loss: -0.9402 - accuracy: 0.0256\n",
            "Epoch 4/50\n",
            "3/3 [==============================] - 0s 4ms/step - loss: -1.0414 - accuracy: 0.0256\n",
            "Epoch 5/50\n",
            "3/3 [==============================] - 0s 7ms/step - loss: -1.1406 - accuracy: 0.0256\n",
            "Epoch 6/50\n",
            "3/3 [==============================] - 0s 6ms/step - loss: -1.2438 - accuracy: 0.0256\n",
            "Epoch 7/50\n",
            "3/3 [==============================] - 0s 8ms/step - loss: -1.3441 - accuracy: 0.0256\n",
            "Epoch 8/50\n",
            "3/3 [==============================] - 0s 6ms/step - loss: -1.4430 - accuracy: 0.0641\n",
            "Epoch 9/50\n",
            "3/3 [==============================] - 0s 5ms/step - loss: -1.5412 - accuracy: 0.0641\n",
            "Epoch 10/50\n",
            "3/3 [==============================] - 0s 7ms/step - loss: -1.6399 - accuracy: 0.0641\n",
            "Epoch 11/50\n",
            "3/3 [==============================] - 0s 5ms/step - loss: -1.7398 - accuracy: 0.0641\n",
            "Epoch 12/50\n",
            "3/3 [==============================] - 0s 5ms/step - loss: -1.8371 - accuracy: 0.0641\n",
            "Epoch 13/50\n",
            "3/3 [==============================] - 0s 5ms/step - loss: -1.9381 - accuracy: 0.0641\n",
            "Epoch 14/50\n",
            "3/3 [==============================] - 0s 5ms/step - loss: -2.0365 - accuracy: 0.0641\n",
            "Epoch 15/50\n",
            "3/3 [==============================] - 0s 6ms/step - loss: -2.1348 - accuracy: 0.0641\n",
            "Epoch 16/50\n",
            "3/3 [==============================] - 0s 5ms/step - loss: -2.2329 - accuracy: 0.0769\n",
            "Epoch 17/50\n",
            "3/3 [==============================] - 0s 5ms/step - loss: -2.3313 - accuracy: 0.1026\n",
            "Epoch 18/50\n",
            "3/3 [==============================] - 0s 4ms/step - loss: -2.4323 - accuracy: 0.1026\n",
            "Epoch 19/50\n",
            "3/3 [==============================] - 0s 6ms/step - loss: -2.5268 - accuracy: 0.1154\n",
            "Epoch 20/50\n",
            "3/3 [==============================] - 0s 6ms/step - loss: -2.6275 - accuracy: 0.1154\n",
            "Epoch 21/50\n",
            "3/3 [==============================] - 0s 6ms/step - loss: -2.7237 - accuracy: 0.1154\n",
            "Epoch 22/50\n",
            "3/3 [==============================] - 0s 6ms/step - loss: -2.8244 - accuracy: 0.1154\n",
            "Epoch 23/50\n",
            "3/3 [==============================] - 0s 4ms/step - loss: -2.9200 - accuracy: 0.1154\n",
            "Epoch 24/50\n",
            "3/3 [==============================] - 0s 5ms/step - loss: -3.0196 - accuracy: 0.1154\n",
            "Epoch 25/50\n",
            "3/3 [==============================] - 0s 5ms/step - loss: -3.1174 - accuracy: 0.1154\n",
            "Epoch 26/50\n",
            "3/3 [==============================] - 0s 6ms/step - loss: -3.2136 - accuracy: 0.1154\n",
            "Epoch 27/50\n",
            "3/3 [==============================] - 0s 6ms/step - loss: -3.3120 - accuracy: 0.1154\n",
            "Epoch 28/50\n",
            "3/3 [==============================] - 0s 6ms/step - loss: -3.4115 - accuracy: 0.1154\n",
            "Epoch 29/50\n",
            "3/3 [==============================] - 0s 4ms/step - loss: -3.5081 - accuracy: 0.1154\n",
            "Epoch 30/50\n",
            "3/3 [==============================] - 0s 5ms/step - loss: -3.6053 - accuracy: 0.1154\n",
            "Epoch 31/50\n",
            "3/3 [==============================] - 0s 5ms/step - loss: -3.7003 - accuracy: 0.1282\n",
            "Epoch 32/50\n",
            "3/3 [==============================] - 0s 6ms/step - loss: -3.7998 - accuracy: 0.1282\n",
            "Epoch 33/50\n",
            "3/3 [==============================] - 0s 6ms/step - loss: -3.8970 - accuracy: 0.1282\n",
            "Epoch 34/50\n",
            "3/3 [==============================] - 0s 5ms/step - loss: -3.9924 - accuracy: 0.1282\n",
            "Epoch 35/50\n",
            "3/3 [==============================] - 0s 5ms/step - loss: -4.0888 - accuracy: 0.1282\n",
            "Epoch 36/50\n",
            "3/3 [==============================] - 0s 4ms/step - loss: -4.1865 - accuracy: 0.1410\n",
            "Epoch 37/50\n",
            "3/3 [==============================] - 0s 4ms/step - loss: -4.2829 - accuracy: 0.1538\n",
            "Epoch 38/50\n",
            "3/3 [==============================] - 0s 5ms/step - loss: -4.3780 - accuracy: 0.1538\n",
            "Epoch 39/50\n",
            "3/3 [==============================] - 0s 5ms/step - loss: -4.4749 - accuracy: 0.1538\n",
            "Epoch 40/50\n",
            "3/3 [==============================] - 0s 6ms/step - loss: -4.5730 - accuracy: 0.1795\n",
            "Epoch 41/50\n",
            "3/3 [==============================] - 0s 4ms/step - loss: -4.6692 - accuracy: 0.1795\n",
            "Epoch 42/50\n",
            "3/3 [==============================] - 0s 4ms/step - loss: -4.7648 - accuracy: 0.1795\n",
            "Epoch 43/50\n",
            "3/3 [==============================] - 0s 5ms/step - loss: -4.8605 - accuracy: 0.1795\n",
            "Epoch 44/50\n",
            "3/3 [==============================] - 0s 5ms/step - loss: -4.9618 - accuracy: 0.1795\n",
            "Epoch 45/50\n",
            "3/3 [==============================] - 0s 5ms/step - loss: -5.0542 - accuracy: 0.1795\n",
            "Epoch 46/50\n",
            "3/3 [==============================] - 0s 5ms/step - loss: -5.1512 - accuracy: 0.1795\n",
            "Epoch 47/50\n",
            "3/3 [==============================] - 0s 8ms/step - loss: -5.2490 - accuracy: 0.1923\n",
            "Epoch 48/50\n",
            "3/3 [==============================] - 0s 5ms/step - loss: -5.3452 - accuracy: 0.2051\n",
            "Epoch 49/50\n",
            "3/3 [==============================] - 0s 5ms/step - loss: -5.4387 - accuracy: 0.2051\n",
            "Epoch 50/50\n",
            "3/3 [==============================] - 0s 4ms/step - loss: -5.5336 - accuracy: 0.2051\n"
          ]
        },
        {
          "output_type": "execute_result",
          "data": {
            "text/plain": [
              "<keras.callbacks.History at 0x7f756fb90450>"
            ]
          },
          "metadata": {},
          "execution_count": 58
        }
      ]
    },
    {
      "cell_type": "code",
      "source": [
        "#Evaluate model on the test dataset\n",
        "model.evaluate(X_test, y_test)"
      ],
      "metadata": {
        "colab": {
          "base_uri": "https://localhost:8080/"
        },
        "id": "tV0ibY6ndOO_",
        "outputId": "3c35af41-29aa-45e2-c282-4710cacf04b3"
      },
      "execution_count": null,
      "outputs": [
        {
          "output_type": "stream",
          "name": "stdout",
          "text": [
            "3/3 [==============================] - 0s 7ms/step - loss: -3.5059 - accuracy: 0.1282\n"
          ]
        },
        {
          "output_type": "execute_result",
          "data": {
            "text/plain": [
              "[-3.5058586597442627, 0.12820513546466827]"
            ]
          },
          "metadata": {},
          "execution_count": 31
        }
      ]
    },
    {
      "cell_type": "code",
      "source": [
        "#sample prediction\n",
        "y_predicted = model.predict(X_test)\n",
        "y_predicted[2]"
      ],
      "metadata": {
        "colab": {
          "base_uri": "https://localhost:8080/"
        },
        "id": "L7qJAWG3dfe4",
        "outputId": "2b13a985-a61a-4f45-cc75-7a245b2b0910"
      },
      "execution_count": null,
      "outputs": [
        {
          "output_type": "execute_result",
          "data": {
            "text/plain": [
              "array([0.07601583, 0.4537092 , 0.43642277, 0.29597253, 0.15798795,\n",
              "       0.07947573, 0.67117137, 0.43142015, 0.13583308, 0.8494957 ,\n",
              "       0.6678968 , 0.832185  , 0.60348904, 0.11200804, 0.22369573,\n",
              "       0.06757528, 0.5559669 , 0.88929534, 0.29677683, 0.6702946 ,\n",
              "       0.9051914 , 0.89692247, 0.30873224, 0.16228747, 0.5716726 ,\n",
              "       0.9486872 ], dtype=float32)"
            ]
          },
          "metadata": {},
          "execution_count": 32
        }
      ]
    },
    {
      "cell_type": "code",
      "source": [
        "np.argmax(y_predicted[2])"
      ],
      "metadata": {
        "colab": {
          "base_uri": "https://localhost:8080/"
        },
        "id": "SMo2Vwe_eVWJ",
        "outputId": "b0142e94-7b52-4cad-f2df-f79b19961a41"
      },
      "execution_count": null,
      "outputs": [
        {
          "output_type": "execute_result",
          "data": {
            "text/plain": [
              "13"
            ]
          },
          "metadata": {},
          "execution_count": 39
        }
      ]
    },
    {
      "cell_type": "code",
      "source": [
        "#To change y_predicted to concrete class labels\n",
        "y_predicted_labels = [np.argmax(i) for i in y_predicted]\n",
        "y_predicted_labels[:5]"
      ],
      "metadata": {
        "colab": {
          "base_uri": "https://localhost:8080/"
        },
        "id": "rlLerXUrfPv0",
        "outputId": "caf4c027-d332-4537-8607-d0f69dc69b8b"
      },
      "execution_count": null,
      "outputs": [
        {
          "output_type": "execute_result",
          "data": {
            "text/plain": [
              "[7, 7, 13, 2, 2]"
            ]
          },
          "metadata": {},
          "execution_count": 45
        }
      ]
    },
    {
      "cell_type": "code",
      "source": [
        "#To improve model, we will add hidden layers\n",
        "from tensorflow.keras import regularizers\n",
        "from tensorflow.keras import layers\n",
        "from tensorflow.keras import initializers\n",
        "model = keras.Sequential([\n",
        "                  keras.layers.Dense(20, input_shape=(14,), activation='relu',\n",
        "                  kernel_regularizer=regularizers.l1_l2(l1=1e-4, l2=1e-4),\n",
        "                  bias_regularizer=regularizers.l2(1e-4),\n",
        "                  activity_regularizer=regularizers.l2(1e-4),\n",
        "                  kernel_initializer = tf.keras.initializers.HeUniform(),\n",
        "                  name=\"dense_1\"),\n",
        "                  keras.layers.Dense(20, input_shape=(14,), activation='relu',\n",
        "                  kernel_regularizer=regularizers.l1_l2(l1=1e-4, l2=1e-4),\n",
        "                  bias_regularizer=regularizers.l2(1e-4),\n",
        "                  activity_regularizer=regularizers.l2(1e-4),\n",
        "                  kernel_initializer = tf.keras.initializers.HeUniform(),\n",
        "                  name=\"dense_2\"),\n",
        "                  keras.layers.Dense(26, activation='sigmoid',kernel_initializer = tf.keras.initializers.GlorotUniform())\n",
        "])\n",
        "\n",
        "model.compile(\n",
        "    optimizer='adam',\n",
        "    loss='categorical_crossentropy',\n",
        "    metrics=['accuracy']\n",
        ")\n",
        "\n",
        "model.fit(X_train, y_train, epochs=200)"
      ],
      "metadata": {
        "id": "vOTn3q_yfC-h",
        "colab": {
          "base_uri": "https://localhost:8080/"
        },
        "outputId": "4d9dfb77-5876-4dad-ff5c-edd783e7d206"
      },
      "execution_count": null,
      "outputs": [
        {
          "output_type": "stream",
          "name": "stdout",
          "text": [
            "Epoch 1/200\n",
            "3/3 [==============================] - 1s 4ms/step - loss: 3.2829 - accuracy: 0.1026\n",
            "Epoch 2/200\n",
            "3/3 [==============================] - 0s 3ms/step - loss: 3.2681 - accuracy: 0.1026\n",
            "Epoch 3/200\n",
            "3/3 [==============================] - 0s 4ms/step - loss: 3.2557 - accuracy: 0.1026\n",
            "Epoch 4/200\n",
            "3/3 [==============================] - 0s 4ms/step - loss: 3.2443 - accuracy: 0.1026\n",
            "Epoch 5/200\n",
            "3/3 [==============================] - 0s 4ms/step - loss: 3.2332 - accuracy: 0.1154\n",
            "Epoch 6/200\n",
            "3/3 [==============================] - 0s 3ms/step - loss: 3.2221 - accuracy: 0.1154\n",
            "Epoch 7/200\n",
            "3/3 [==============================] - 0s 3ms/step - loss: 3.2117 - accuracy: 0.1154\n",
            "Epoch 8/200\n",
            "3/3 [==============================] - 0s 3ms/step - loss: 3.2012 - accuracy: 0.1154\n",
            "Epoch 9/200\n",
            "3/3 [==============================] - 0s 3ms/step - loss: 3.1906 - accuracy: 0.1154\n",
            "Epoch 10/200\n",
            "3/3 [==============================] - 0s 4ms/step - loss: 3.1802 - accuracy: 0.1154\n",
            "Epoch 11/200\n",
            "3/3 [==============================] - 0s 3ms/step - loss: 3.1699 - accuracy: 0.1154\n",
            "Epoch 12/200\n",
            "3/3 [==============================] - 0s 3ms/step - loss: 3.1595 - accuracy: 0.1282\n",
            "Epoch 13/200\n",
            "3/3 [==============================] - 0s 3ms/step - loss: 3.1492 - accuracy: 0.1410\n",
            "Epoch 14/200\n",
            "3/3 [==============================] - 0s 3ms/step - loss: 3.1379 - accuracy: 0.1410\n",
            "Epoch 15/200\n",
            "3/3 [==============================] - 0s 3ms/step - loss: 3.1272 - accuracy: 0.1410\n",
            "Epoch 16/200\n",
            "3/3 [==============================] - 0s 3ms/step - loss: 3.1167 - accuracy: 0.1410\n",
            "Epoch 17/200\n",
            "3/3 [==============================] - 0s 3ms/step - loss: 3.1059 - accuracy: 0.1410\n",
            "Epoch 18/200\n",
            "3/3 [==============================] - 0s 4ms/step - loss: 3.0949 - accuracy: 0.1410\n",
            "Epoch 19/200\n",
            "3/3 [==============================] - 0s 4ms/step - loss: 3.0840 - accuracy: 0.1410\n",
            "Epoch 20/200\n",
            "3/3 [==============================] - 0s 4ms/step - loss: 3.0729 - accuracy: 0.1538\n",
            "Epoch 21/200\n",
            "3/3 [==============================] - 0s 5ms/step - loss: 3.0612 - accuracy: 0.1795\n",
            "Epoch 22/200\n",
            "3/3 [==============================] - 0s 3ms/step - loss: 3.0495 - accuracy: 0.1795\n",
            "Epoch 23/200\n",
            "3/3 [==============================] - 0s 3ms/step - loss: 3.0381 - accuracy: 0.1795\n",
            "Epoch 24/200\n",
            "3/3 [==============================] - 0s 3ms/step - loss: 3.0254 - accuracy: 0.1923\n",
            "Epoch 25/200\n",
            "3/3 [==============================] - 0s 4ms/step - loss: 3.0128 - accuracy: 0.1923\n",
            "Epoch 26/200\n",
            "3/3 [==============================] - 0s 3ms/step - loss: 2.9997 - accuracy: 0.2051\n",
            "Epoch 27/200\n",
            "3/3 [==============================] - 0s 3ms/step - loss: 2.9867 - accuracy: 0.2051\n",
            "Epoch 28/200\n",
            "3/3 [==============================] - 0s 4ms/step - loss: 2.9738 - accuracy: 0.2051\n",
            "Epoch 29/200\n",
            "3/3 [==============================] - 0s 3ms/step - loss: 2.9600 - accuracy: 0.2436\n",
            "Epoch 30/200\n",
            "3/3 [==============================] - 0s 4ms/step - loss: 2.9469 - accuracy: 0.2436\n",
            "Epoch 31/200\n",
            "3/3 [==============================] - 0s 4ms/step - loss: 2.9325 - accuracy: 0.2821\n",
            "Epoch 32/200\n",
            "3/3 [==============================] - 0s 3ms/step - loss: 2.9189 - accuracy: 0.2821\n",
            "Epoch 33/200\n",
            "3/3 [==============================] - 0s 3ms/step - loss: 2.9051 - accuracy: 0.2949\n",
            "Epoch 34/200\n",
            "3/3 [==============================] - 0s 3ms/step - loss: 2.8903 - accuracy: 0.2949\n",
            "Epoch 35/200\n",
            "3/3 [==============================] - 0s 3ms/step - loss: 2.8762 - accuracy: 0.2949\n",
            "Epoch 36/200\n",
            "3/3 [==============================] - 0s 4ms/step - loss: 2.8617 - accuracy: 0.2949\n",
            "Epoch 37/200\n",
            "3/3 [==============================] - 0s 4ms/step - loss: 2.8462 - accuracy: 0.2949\n",
            "Epoch 38/200\n",
            "3/3 [==============================] - 0s 3ms/step - loss: 2.8322 - accuracy: 0.2949\n",
            "Epoch 39/200\n",
            "3/3 [==============================] - 0s 3ms/step - loss: 2.8163 - accuracy: 0.3333\n",
            "Epoch 40/200\n",
            "3/3 [==============================] - 0s 5ms/step - loss: 2.8003 - accuracy: 0.3333\n",
            "Epoch 41/200\n",
            "3/3 [==============================] - 0s 3ms/step - loss: 2.7847 - accuracy: 0.3590\n",
            "Epoch 42/200\n",
            "3/3 [==============================] - 0s 3ms/step - loss: 2.7684 - accuracy: 0.3590\n",
            "Epoch 43/200\n",
            "3/3 [==============================] - 0s 3ms/step - loss: 2.7522 - accuracy: 0.3590\n",
            "Epoch 44/200\n",
            "3/3 [==============================] - 0s 3ms/step - loss: 2.7360 - accuracy: 0.3590\n",
            "Epoch 45/200\n",
            "3/3 [==============================] - 0s 3ms/step - loss: 2.7186 - accuracy: 0.3718\n",
            "Epoch 46/200\n",
            "3/3 [==============================] - 0s 3ms/step - loss: 2.7013 - accuracy: 0.3846\n",
            "Epoch 47/200\n",
            "3/3 [==============================] - 0s 3ms/step - loss: 2.6851 - accuracy: 0.3846\n",
            "Epoch 48/200\n",
            "3/3 [==============================] - 0s 5ms/step - loss: 2.6664 - accuracy: 0.3846\n",
            "Epoch 49/200\n",
            "3/3 [==============================] - 0s 4ms/step - loss: 2.6496 - accuracy: 0.3846\n",
            "Epoch 50/200\n",
            "3/3 [==============================] - 0s 3ms/step - loss: 2.6316 - accuracy: 0.4103\n",
            "Epoch 51/200\n",
            "3/3 [==============================] - 0s 4ms/step - loss: 2.6137 - accuracy: 0.4231\n",
            "Epoch 52/200\n",
            "3/3 [==============================] - 0s 3ms/step - loss: 2.5959 - accuracy: 0.4231\n",
            "Epoch 53/200\n",
            "3/3 [==============================] - 0s 3ms/step - loss: 2.5770 - accuracy: 0.4103\n",
            "Epoch 54/200\n",
            "3/3 [==============================] - 0s 3ms/step - loss: 2.5595 - accuracy: 0.4103\n",
            "Epoch 55/200\n",
            "3/3 [==============================] - 0s 3ms/step - loss: 2.5404 - accuracy: 0.4103\n",
            "Epoch 56/200\n",
            "3/3 [==============================] - 0s 3ms/step - loss: 2.5217 - accuracy: 0.4103\n",
            "Epoch 57/200\n",
            "3/3 [==============================] - 0s 3ms/step - loss: 2.5035 - accuracy: 0.4231\n",
            "Epoch 58/200\n",
            "3/3 [==============================] - 0s 3ms/step - loss: 2.4839 - accuracy: 0.4231\n",
            "Epoch 59/200\n",
            "3/3 [==============================] - 0s 3ms/step - loss: 2.4644 - accuracy: 0.4231\n",
            "Epoch 60/200\n",
            "3/3 [==============================] - 0s 3ms/step - loss: 2.4450 - accuracy: 0.4231\n",
            "Epoch 61/200\n",
            "3/3 [==============================] - 0s 3ms/step - loss: 2.4249 - accuracy: 0.4487\n",
            "Epoch 62/200\n",
            "3/3 [==============================] - 0s 3ms/step - loss: 2.4056 - accuracy: 0.4487\n",
            "Epoch 63/200\n",
            "3/3 [==============================] - 0s 4ms/step - loss: 2.3856 - accuracy: 0.4615\n",
            "Epoch 64/200\n",
            "3/3 [==============================] - 0s 4ms/step - loss: 2.3650 - accuracy: 0.4615\n",
            "Epoch 65/200\n",
            "3/3 [==============================] - 0s 3ms/step - loss: 2.3449 - accuracy: 0.4872\n",
            "Epoch 66/200\n",
            "3/3 [==============================] - 0s 3ms/step - loss: 2.3247 - accuracy: 0.5000\n",
            "Epoch 67/200\n",
            "3/3 [==============================] - 0s 3ms/step - loss: 2.3039 - accuracy: 0.5000\n",
            "Epoch 68/200\n",
            "3/3 [==============================] - 0s 3ms/step - loss: 2.2837 - accuracy: 0.5000\n",
            "Epoch 69/200\n",
            "3/3 [==============================] - 0s 3ms/step - loss: 2.2626 - accuracy: 0.5000\n",
            "Epoch 70/200\n",
            "3/3 [==============================] - 0s 5ms/step - loss: 2.2421 - accuracy: 0.5128\n",
            "Epoch 71/200\n",
            "3/3 [==============================] - 0s 3ms/step - loss: 2.2214 - accuracy: 0.5128\n",
            "Epoch 72/200\n",
            "3/3 [==============================] - 0s 3ms/step - loss: 2.2008 - accuracy: 0.5128\n",
            "Epoch 73/200\n",
            "3/3 [==============================] - 0s 3ms/step - loss: 2.1796 - accuracy: 0.5128\n",
            "Epoch 74/200\n",
            "3/3 [==============================] - 0s 4ms/step - loss: 2.1588 - accuracy: 0.5128\n",
            "Epoch 75/200\n",
            "3/3 [==============================] - 0s 3ms/step - loss: 2.1379 - accuracy: 0.5128\n",
            "Epoch 76/200\n",
            "3/3 [==============================] - 0s 3ms/step - loss: 2.1176 - accuracy: 0.5256\n",
            "Epoch 77/200\n",
            "3/3 [==============================] - 0s 3ms/step - loss: 2.0970 - accuracy: 0.5256\n",
            "Epoch 78/200\n",
            "3/3 [==============================] - 0s 3ms/step - loss: 2.0761 - accuracy: 0.5256\n",
            "Epoch 79/200\n",
            "3/3 [==============================] - 0s 3ms/step - loss: 2.0551 - accuracy: 0.5385\n",
            "Epoch 80/200\n",
            "3/3 [==============================] - 0s 4ms/step - loss: 2.0340 - accuracy: 0.5385\n",
            "Epoch 81/200\n",
            "3/3 [==============================] - 0s 4ms/step - loss: 2.0129 - accuracy: 0.5385\n",
            "Epoch 82/200\n",
            "3/3 [==============================] - 0s 3ms/step - loss: 1.9919 - accuracy: 0.5385\n",
            "Epoch 83/200\n",
            "3/3 [==============================] - 0s 3ms/step - loss: 1.9706 - accuracy: 0.5641\n",
            "Epoch 84/200\n",
            "3/3 [==============================] - 0s 3ms/step - loss: 1.9494 - accuracy: 0.5641\n",
            "Epoch 85/200\n",
            "3/3 [==============================] - 0s 4ms/step - loss: 1.9282 - accuracy: 0.5769\n",
            "Epoch 86/200\n",
            "3/3 [==============================] - 0s 3ms/step - loss: 1.9076 - accuracy: 0.5897\n",
            "Epoch 87/200\n",
            "3/3 [==============================] - 0s 3ms/step - loss: 1.8871 - accuracy: 0.5897\n",
            "Epoch 88/200\n",
            "3/3 [==============================] - 0s 3ms/step - loss: 1.8654 - accuracy: 0.5897\n",
            "Epoch 89/200\n",
            "3/3 [==============================] - 0s 3ms/step - loss: 1.8451 - accuracy: 0.6026\n",
            "Epoch 90/200\n",
            "3/3 [==============================] - 0s 3ms/step - loss: 1.8245 - accuracy: 0.6026\n",
            "Epoch 91/200\n",
            "3/3 [==============================] - 0s 5ms/step - loss: 1.8032 - accuracy: 0.6410\n",
            "Epoch 92/200\n",
            "3/3 [==============================] - 0s 3ms/step - loss: 1.7824 - accuracy: 0.6410\n",
            "Epoch 93/200\n",
            "3/3 [==============================] - 0s 3ms/step - loss: 1.7612 - accuracy: 0.6538\n",
            "Epoch 94/200\n",
            "3/3 [==============================] - 0s 3ms/step - loss: 1.7394 - accuracy: 0.6667\n",
            "Epoch 95/200\n",
            "3/3 [==============================] - 0s 3ms/step - loss: 1.7189 - accuracy: 0.6667\n",
            "Epoch 96/200\n",
            "3/3 [==============================] - 0s 3ms/step - loss: 1.6984 - accuracy: 0.6667\n",
            "Epoch 97/200\n",
            "3/3 [==============================] - 0s 3ms/step - loss: 1.6772 - accuracy: 0.6795\n",
            "Epoch 98/200\n",
            "3/3 [==============================] - 0s 3ms/step - loss: 1.6575 - accuracy: 0.6795\n",
            "Epoch 99/200\n",
            "3/3 [==============================] - 0s 4ms/step - loss: 1.6371 - accuracy: 0.6795\n",
            "Epoch 100/200\n",
            "3/3 [==============================] - 0s 3ms/step - loss: 1.6173 - accuracy: 0.6795\n",
            "Epoch 101/200\n",
            "3/3 [==============================] - 0s 3ms/step - loss: 1.5972 - accuracy: 0.6795\n",
            "Epoch 102/200\n",
            "3/3 [==============================] - 0s 3ms/step - loss: 1.5772 - accuracy: 0.7179\n",
            "Epoch 103/200\n",
            "3/3 [==============================] - 0s 3ms/step - loss: 1.5575 - accuracy: 0.7179\n",
            "Epoch 104/200\n",
            "3/3 [==============================] - 0s 3ms/step - loss: 1.5395 - accuracy: 0.7308\n",
            "Epoch 105/200\n",
            "3/3 [==============================] - 0s 3ms/step - loss: 1.5195 - accuracy: 0.7436\n",
            "Epoch 106/200\n",
            "3/3 [==============================] - 0s 3ms/step - loss: 1.5015 - accuracy: 0.7436\n",
            "Epoch 107/200\n",
            "3/3 [==============================] - 0s 3ms/step - loss: 1.4821 - accuracy: 0.7692\n",
            "Epoch 108/200\n",
            "3/3 [==============================] - 0s 3ms/step - loss: 1.4636 - accuracy: 0.8205\n",
            "Epoch 109/200\n",
            "3/3 [==============================] - 0s 3ms/step - loss: 1.4454 - accuracy: 0.8333\n",
            "Epoch 110/200\n",
            "3/3 [==============================] - 0s 3ms/step - loss: 1.4274 - accuracy: 0.8462\n",
            "Epoch 111/200\n",
            "3/3 [==============================] - 0s 2ms/step - loss: 1.4089 - accuracy: 0.8462\n",
            "Epoch 112/200\n",
            "3/3 [==============================] - 0s 3ms/step - loss: 1.3915 - accuracy: 0.8333\n",
            "Epoch 113/200\n",
            "3/3 [==============================] - 0s 3ms/step - loss: 1.3738 - accuracy: 0.8333\n",
            "Epoch 114/200\n",
            "3/3 [==============================] - 0s 3ms/step - loss: 1.3575 - accuracy: 0.8205\n",
            "Epoch 115/200\n",
            "3/3 [==============================] - 0s 3ms/step - loss: 1.3399 - accuracy: 0.8205\n",
            "Epoch 116/200\n",
            "3/3 [==============================] - 0s 3ms/step - loss: 1.3233 - accuracy: 0.8077\n",
            "Epoch 117/200\n",
            "3/3 [==============================] - 0s 3ms/step - loss: 1.3062 - accuracy: 0.8077\n",
            "Epoch 118/200\n",
            "3/3 [==============================] - 0s 3ms/step - loss: 1.2905 - accuracy: 0.8077\n",
            "Epoch 119/200\n",
            "3/3 [==============================] - 0s 3ms/step - loss: 1.2746 - accuracy: 0.8205\n",
            "Epoch 120/200\n",
            "3/3 [==============================] - 0s 3ms/step - loss: 1.2578 - accuracy: 0.8077\n",
            "Epoch 121/200\n",
            "3/3 [==============================] - 0s 3ms/step - loss: 1.2426 - accuracy: 0.8077\n",
            "Epoch 122/200\n",
            "3/3 [==============================] - 0s 3ms/step - loss: 1.2273 - accuracy: 0.8077\n",
            "Epoch 123/200\n",
            "3/3 [==============================] - 0s 3ms/step - loss: 1.2125 - accuracy: 0.8077\n",
            "Epoch 124/200\n",
            "3/3 [==============================] - 0s 3ms/step - loss: 1.1983 - accuracy: 0.8205\n",
            "Epoch 125/200\n",
            "3/3 [==============================] - 0s 4ms/step - loss: 1.1827 - accuracy: 0.8205\n",
            "Epoch 126/200\n",
            "3/3 [==============================] - 0s 4ms/step - loss: 1.1682 - accuracy: 0.8462\n",
            "Epoch 127/200\n",
            "3/3 [==============================] - 0s 3ms/step - loss: 1.1540 - accuracy: 0.8590\n",
            "Epoch 128/200\n",
            "3/3 [==============================] - 0s 3ms/step - loss: 1.1403 - accuracy: 0.8590\n",
            "Epoch 129/200\n",
            "3/3 [==============================] - 0s 3ms/step - loss: 1.1266 - accuracy: 0.8718\n",
            "Epoch 130/200\n",
            "3/3 [==============================] - 0s 3ms/step - loss: 1.1127 - accuracy: 0.8718\n",
            "Epoch 131/200\n",
            "3/3 [==============================] - 0s 4ms/step - loss: 1.0992 - accuracy: 0.8718\n",
            "Epoch 132/200\n",
            "3/3 [==============================] - 0s 3ms/step - loss: 1.0855 - accuracy: 0.8718\n",
            "Epoch 133/200\n",
            "3/3 [==============================] - 0s 3ms/step - loss: 1.0727 - accuracy: 0.8846\n",
            "Epoch 134/200\n",
            "3/3 [==============================] - 0s 3ms/step - loss: 1.0609 - accuracy: 0.8846\n",
            "Epoch 135/200\n",
            "3/3 [==============================] - 0s 3ms/step - loss: 1.0466 - accuracy: 0.8974\n",
            "Epoch 136/200\n",
            "3/3 [==============================] - 0s 5ms/step - loss: 1.0345 - accuracy: 0.8974\n",
            "Epoch 137/200\n",
            "3/3 [==============================] - 0s 3ms/step - loss: 1.0219 - accuracy: 0.9103\n",
            "Epoch 138/200\n",
            "3/3 [==============================] - 0s 4ms/step - loss: 1.0102 - accuracy: 0.8974\n",
            "Epoch 139/200\n",
            "3/3 [==============================] - 0s 3ms/step - loss: 0.9980 - accuracy: 0.8846\n",
            "Epoch 140/200\n",
            "3/3 [==============================] - 0s 3ms/step - loss: 0.9866 - accuracy: 0.8846\n",
            "Epoch 141/200\n",
            "3/3 [==============================] - 0s 4ms/step - loss: 0.9759 - accuracy: 0.8718\n",
            "Epoch 142/200\n",
            "3/3 [==============================] - 0s 3ms/step - loss: 0.9655 - accuracy: 0.8718\n",
            "Epoch 143/200\n",
            "3/3 [==============================] - 0s 3ms/step - loss: 0.9548 - accuracy: 0.8718\n",
            "Epoch 144/200\n",
            "3/3 [==============================] - 0s 3ms/step - loss: 0.9437 - accuracy: 0.8718\n",
            "Epoch 145/200\n",
            "3/3 [==============================] - 0s 3ms/step - loss: 0.9330 - accuracy: 0.8846\n",
            "Epoch 146/200\n",
            "3/3 [==============================] - 0s 3ms/step - loss: 0.9216 - accuracy: 0.8974\n",
            "Epoch 147/200\n",
            "3/3 [==============================] - 0s 3ms/step - loss: 0.9118 - accuracy: 0.8974\n",
            "Epoch 148/200\n",
            "3/3 [==============================] - 0s 4ms/step - loss: 0.9002 - accuracy: 0.9103\n",
            "Epoch 149/200\n",
            "3/3 [==============================] - 0s 4ms/step - loss: 0.8899 - accuracy: 0.9103\n",
            "Epoch 150/200\n",
            "3/3 [==============================] - 0s 3ms/step - loss: 0.8799 - accuracy: 0.9103\n",
            "Epoch 151/200\n",
            "3/3 [==============================] - 0s 4ms/step - loss: 0.8703 - accuracy: 0.9103\n",
            "Epoch 152/200\n",
            "3/3 [==============================] - 0s 5ms/step - loss: 0.8607 - accuracy: 0.9103\n",
            "Epoch 153/200\n",
            "3/3 [==============================] - 0s 3ms/step - loss: 0.8508 - accuracy: 0.9103\n",
            "Epoch 154/200\n",
            "3/3 [==============================] - 0s 3ms/step - loss: 0.8417 - accuracy: 0.9103\n",
            "Epoch 155/200\n",
            "3/3 [==============================] - 0s 4ms/step - loss: 0.8327 - accuracy: 0.9103\n",
            "Epoch 156/200\n",
            "3/3 [==============================] - 0s 4ms/step - loss: 0.8242 - accuracy: 0.9103\n",
            "Epoch 157/200\n",
            "3/3 [==============================] - 0s 4ms/step - loss: 0.8155 - accuracy: 0.9103\n",
            "Epoch 158/200\n",
            "3/3 [==============================] - 0s 4ms/step - loss: 0.8068 - accuracy: 0.9103\n",
            "Epoch 159/200\n",
            "3/3 [==============================] - 0s 3ms/step - loss: 0.7982 - accuracy: 0.9103\n",
            "Epoch 160/200\n",
            "3/3 [==============================] - 0s 3ms/step - loss: 0.7907 - accuracy: 0.9103\n",
            "Epoch 161/200\n",
            "3/3 [==============================] - 0s 4ms/step - loss: 0.7817 - accuracy: 0.9103\n",
            "Epoch 162/200\n",
            "3/3 [==============================] - 0s 4ms/step - loss: 0.7738 - accuracy: 0.9103\n",
            "Epoch 163/200\n",
            "3/3 [==============================] - 0s 3ms/step - loss: 0.7657 - accuracy: 0.9103\n",
            "Epoch 164/200\n",
            "3/3 [==============================] - 0s 3ms/step - loss: 0.7584 - accuracy: 0.9103\n",
            "Epoch 165/200\n",
            "3/3 [==============================] - 0s 3ms/step - loss: 0.7509 - accuracy: 0.9103\n",
            "Epoch 166/200\n",
            "3/3 [==============================] - 0s 3ms/step - loss: 0.7434 - accuracy: 0.9103\n",
            "Epoch 167/200\n",
            "3/3 [==============================] - 0s 3ms/step - loss: 0.7358 - accuracy: 0.9103\n",
            "Epoch 168/200\n",
            "3/3 [==============================] - 0s 3ms/step - loss: 0.7295 - accuracy: 0.9103\n",
            "Epoch 169/200\n",
            "3/3 [==============================] - 0s 4ms/step - loss: 0.7220 - accuracy: 0.9103\n",
            "Epoch 170/200\n",
            "3/3 [==============================] - 0s 4ms/step - loss: 0.7156 - accuracy: 0.9103\n",
            "Epoch 171/200\n",
            "3/3 [==============================] - 0s 5ms/step - loss: 0.7084 - accuracy: 0.9103\n",
            "Epoch 172/200\n",
            "3/3 [==============================] - 0s 5ms/step - loss: 0.7023 - accuracy: 0.9103\n",
            "Epoch 173/200\n",
            "3/3 [==============================] - 0s 4ms/step - loss: 0.6957 - accuracy: 0.9103\n",
            "Epoch 174/200\n",
            "3/3 [==============================] - 0s 4ms/step - loss: 0.6894 - accuracy: 0.9103\n",
            "Epoch 175/200\n",
            "3/3 [==============================] - 0s 4ms/step - loss: 0.6831 - accuracy: 0.9103\n",
            "Epoch 176/200\n",
            "3/3 [==============================] - 0s 4ms/step - loss: 0.6769 - accuracy: 0.9103\n",
            "Epoch 177/200\n",
            "3/3 [==============================] - 0s 6ms/step - loss: 0.6704 - accuracy: 0.9103\n",
            "Epoch 178/200\n",
            "3/3 [==============================] - 0s 4ms/step - loss: 0.6638 - accuracy: 0.9103\n",
            "Epoch 179/200\n",
            "3/3 [==============================] - 0s 4ms/step - loss: 0.6574 - accuracy: 0.9103\n",
            "Epoch 180/200\n",
            "3/3 [==============================] - 0s 4ms/step - loss: 0.6522 - accuracy: 0.9103\n",
            "Epoch 181/200\n",
            "3/3 [==============================] - 0s 4ms/step - loss: 0.6458 - accuracy: 0.9103\n",
            "Epoch 182/200\n",
            "3/3 [==============================] - 0s 4ms/step - loss: 0.6403 - accuracy: 0.9103\n",
            "Epoch 183/200\n",
            "3/3 [==============================] - 0s 4ms/step - loss: 0.6356 - accuracy: 0.9103\n",
            "Epoch 184/200\n",
            "3/3 [==============================] - 0s 4ms/step - loss: 0.6291 - accuracy: 0.9103\n",
            "Epoch 185/200\n",
            "3/3 [==============================] - 0s 4ms/step - loss: 0.6234 - accuracy: 0.9231\n",
            "Epoch 186/200\n",
            "3/3 [==============================] - 0s 4ms/step - loss: 0.6174 - accuracy: 0.9103\n",
            "Epoch 187/200\n",
            "3/3 [==============================] - 0s 4ms/step - loss: 0.6123 - accuracy: 0.9103\n",
            "Epoch 188/200\n",
            "3/3 [==============================] - 0s 4ms/step - loss: 0.6062 - accuracy: 0.9103\n",
            "Epoch 189/200\n",
            "3/3 [==============================] - 0s 4ms/step - loss: 0.6005 - accuracy: 0.9103\n",
            "Epoch 190/200\n",
            "3/3 [==============================] - 0s 4ms/step - loss: 0.5955 - accuracy: 0.9103\n",
            "Epoch 191/200\n",
            "3/3 [==============================] - 0s 4ms/step - loss: 0.5900 - accuracy: 0.9231\n",
            "Epoch 192/200\n",
            "3/3 [==============================] - 0s 4ms/step - loss: 0.5850 - accuracy: 0.9231\n",
            "Epoch 193/200\n",
            "3/3 [==============================] - 0s 4ms/step - loss: 0.5803 - accuracy: 0.9231\n",
            "Epoch 194/200\n",
            "3/3 [==============================] - 0s 6ms/step - loss: 0.5752 - accuracy: 0.9231\n",
            "Epoch 195/200\n",
            "3/3 [==============================] - 0s 4ms/step - loss: 0.5703 - accuracy: 0.9231\n",
            "Epoch 196/200\n",
            "3/3 [==============================] - 0s 3ms/step - loss: 0.5657 - accuracy: 0.9231\n",
            "Epoch 197/200\n",
            "3/3 [==============================] - 0s 3ms/step - loss: 0.5611 - accuracy: 0.9231\n",
            "Epoch 198/200\n",
            "3/3 [==============================] - 0s 4ms/step - loss: 0.5560 - accuracy: 0.9231\n",
            "Epoch 199/200\n",
            "3/3 [==============================] - 0s 4ms/step - loss: 0.5522 - accuracy: 0.9231\n",
            "Epoch 200/200\n",
            "3/3 [==============================] - 0s 3ms/step - loss: 0.5470 - accuracy: 0.9231\n"
          ]
        },
        {
          "output_type": "execute_result",
          "data": {
            "text/plain": [
              "<keras.callbacks.History at 0x7f756d673fd0>"
            ]
          },
          "metadata": {},
          "execution_count": 70
        }
      ]
    },
    {
      "cell_type": "code",
      "source": [
        "#Evaluate model on the test dataset\n",
        "model.evaluate(X_test, y_test)"
      ],
      "metadata": {
        "colab": {
          "base_uri": "https://localhost:8080/"
        },
        "id": "0k_QS6dNi-VQ",
        "outputId": "c47060b8-fe6b-4e71-ef91-c4f68f1f675a"
      },
      "execution_count": null,
      "outputs": [
        {
          "output_type": "stream",
          "name": "stdout",
          "text": [
            "3/3 [==============================] - 0s 4ms/step - loss: 1.1658 - accuracy: 0.7821\n"
          ]
        },
        {
          "output_type": "execute_result",
          "data": {
            "text/plain": [
              "[1.1658493280410767, 0.7820512652397156]"
            ]
          },
          "metadata": {},
          "execution_count": 73
        }
      ]
    },
    {
      "cell_type": "code",
      "source": [
        "#sample prediction\n",
        "y_predicted = model.predict(X_test)\n",
        "y_predicted[1]"
      ],
      "metadata": {
        "colab": {
          "base_uri": "https://localhost:8080/"
        },
        "id": "OKS-r0C14X_c",
        "outputId": "9a8f97c5-90af-4765-f604-5eea8678f222"
      },
      "execution_count": null,
      "outputs": [
        {
          "output_type": "execute_result",
          "data": {
            "text/plain": [
              "array([9.9606371e-01, 2.8264821e-03, 2.1687150e-02, 4.2423308e-03,\n",
              "       3.3388704e-02, 7.2450042e-03, 4.8865080e-03, 1.6748667e-02,\n",
              "       5.5466872e-01, 3.5594705e-01, 1.2405217e-03, 3.4774429e-01,\n",
              "       3.4618378e-03, 6.7695975e-04, 7.5042248e-04, 3.8160205e-02,\n",
              "       1.4999402e-01, 3.6212504e-03, 4.1759014e-04, 7.9021764e-01,\n",
              "       6.2259883e-02, 4.0396422e-02, 1.8533167e-01, 6.8531976e-05,\n",
              "       7.3544681e-03, 2.9481053e-01], dtype=float32)"
            ]
          },
          "metadata": {},
          "execution_count": 72
        }
      ]
    },
    {
      "cell_type": "code",
      "source": [
        "#Check Training History\n",
        "# Define function for plotting history\n",
        "import matplotlib.pyplot as plt\n",
        "def plot_metrics(history):\n",
        "  metrics =  ['loss', 'accuracy']\n",
        "  for n, metric in enumerate(metrics):\n",
        "    name = metric.replace(\"_\",\" \").capitalize()\n",
        "    plt.subplot(1,2,n+1)\n",
        "    plt.tight_layout()\n",
        "    plt.plot(history.epoch,  history.history[metric], color=colors[0], label='Train')\n",
        "    plt.plot(history.epoch, history.history['val_'+metric],\n",
        "             color=colors[0], linestyle=\"--\", label='Val')\n",
        "    plt.xlabel('Epoch')\n",
        "    plt.ylabel(name)\n",
        "    plt.legend()"
      ],
      "metadata": {
        "id": "ACsxEugh9AnJ"
      },
      "execution_count": null,
      "outputs": []
    },
    {
      "cell_type": "code",
      "source": [
        "# Plot the training/validation history of our Keras model\n",
        "colors = plt.rcParams['axes.prop_cycle'].by_key()['color']\n",
        "plot_metrics(history)"
      ],
      "metadata": {
        "id": "iNZJ3U9J9K2-"
      },
      "execution_count": null,
      "outputs": []
    },
    {
      "cell_type": "code",
      "source": [
        "#Run Scikit-Optimizer\n",
        "import warnings\n",
        "warnings.filterwarnings('ignore')\n",
        "\n",
        "results_gp = skopt.gp_minimize(objective,     # the function to minimize\n",
        "                          SPACE,              # the bounds on each dimension of x\n",
        "                          n_initial_points=10,      # the starting point        ###acq_func=\"LCB\",     # the acquisition function (optional)                          \n",
        "                          n_calls=10,         # the number of evaluations of f including at x0                          \n",
        "                          random_state=0)\n",
        "\n",
        "# summarize performance\n",
        "###print('MSE mean and std: %.3f (%.3f)' % (np.mean(results), np.std(results)))"
      ],
      "metadata": {
        "id": "XqdsyNzKgrti"
      },
      "execution_count": null,
      "outputs": []
    },
    {
      "cell_type": "code",
      "source": [
        "results_gp"
      ],
      "metadata": {
        "colab": {
          "base_uri": "https://localhost:8080/"
        },
        "id": "5r3oqTrlz-Ua",
        "outputId": "a3b81219-66da-4dfb-ad7d-913f25d9f2a4"
      },
      "execution_count": null,
      "outputs": [
        {
          "output_type": "execute_result",
          "data": {
            "text/plain": [
              "          fun: -16.18962852160136\n",
              "    func_vals: array([-15.40254768, -14.40351731, -13.41413085, -16.18962852,\n",
              "       -14.2598985 , -14.14933236, -13.39249825, -14.31138388,\n",
              "       -15.38003262, -13.49453115])\n",
              "       models: [GaussianProcessRegressor(kernel=1**2 * Matern(length_scale=[1, 1, 1], nu=2.5) + WhiteKernel(noise_level=1),\n",
              "                         n_restarts_optimizer=2, noise='gaussian',\n",
              "                         normalize_y=True, random_state=209652396)]\n",
              " random_state: RandomState(MT19937) at 0x7F3E126B08D0\n",
              "        space: Space([Integer(low=20, high=24, prior='uniform', transform='normalize'),\n",
              "       Integer(low=20, high=24, prior='uniform', transform='normalize'),\n",
              "       Real(low=0.0, high=0.5, prior='uniform', transform='normalize')])\n",
              "        specs: {'args': {'func': <function objective at 0x7f3e130cee60>, 'dimensions': Space([Integer(low=20, high=24, prior='uniform', transform='normalize'),\n",
              "       Integer(low=20, high=24, prior='uniform', transform='normalize'),\n",
              "       Real(low=0.0, high=0.5, prior='uniform', transform='normalize')]), 'base_estimator': GaussianProcessRegressor(kernel=1**2 * Matern(length_scale=[1, 1, 1], nu=2.5),\n",
              "                         n_restarts_optimizer=2, noise='gaussian',\n",
              "                         normalize_y=True, random_state=209652396), 'n_calls': 10, 'n_random_starts': None, 'n_initial_points': 10, 'initial_point_generator': 'random', 'acq_func': 'gp_hedge', 'acq_optimizer': 'auto', 'x0': None, 'y0': None, 'random_state': RandomState(MT19937) at 0x7F3E126B08D0, 'verbose': False, 'callback': None, 'n_points': 10000, 'n_restarts_optimizer': 5, 'xi': 0.01, 'kappa': 1.96, 'n_jobs': 1, 'model_queue_size': None}, 'function': 'base_minimize'}\n",
              "            x: [22, 23, 0.23998858618752872]\n",
              "      x_iters: [[22, 23, 0.4289728088113785], [23, 22, 0.19219085364634997], [21, 20, 0.13632814729005663], [22, 23, 0.23998858618752872], [22, 23, 0.16869808020863422], [23, 21, 0.4785775794765233], [21, 23, 0.2368040226368553], [23, 22, 0.3394397650594802], [23, 22, 0.2686866147245054], [23, 20, 0.23680020967332877]]"
            ]
          },
          "metadata": {},
          "execution_count": 231
        }
      ]
    },
    {
      "cell_type": "code",
      "source": [
        "#Get Best Parameter Set\n",
        "\"Best score=%.4f\" % results_gp.fun\n",
        "\n",
        "print(\"\"\"Best parameters:\n",
        "- dense_0_neurons=%d\n",
        "- dense_1_neurons=%d\n",
        "- dropout_rate=%.6f\"\"\" % \n",
        "      (results_gp.x[0], results_gp.x[1],\n",
        "                            results_gp.x[2]))"
      ],
      "metadata": {
        "colab": {
          "base_uri": "https://localhost:8080/"
        },
        "id": "va88myAe8C_f",
        "outputId": "7f2d5c2f-3ea8-4f7d-a3ee-455fd4cac30b"
      },
      "execution_count": null,
      "outputs": [
        {
          "output_type": "stream",
          "name": "stdout",
          "text": [
            "Best parameters:\n",
            "- dense_0_neurons=22\n",
            "- dense_1_neurons=23\n",
            "- dropout_rate=0.239989\n"
          ]
        }
      ]
    },
    {
      "cell_type": "code",
      "source": [
        "#Convergence Plot\n",
        "from skopt.plots import plot_convergence\n",
        "plot_convergence(results_gp)"
      ],
      "metadata": {
        "colab": {
          "base_uri": "https://localhost:8080/",
          "height": 314
        },
        "id": "JS38uQ0G8K-m",
        "outputId": "6716b3ad-8ddf-4e21-a9dc-18e83429496f"
      },
      "execution_count": null,
      "outputs": [
        {
          "output_type": "execute_result",
          "data": {
            "text/plain": [
              "<matplotlib.axes._subplots.AxesSubplot at 0x7f3dfeb1e150>"
            ]
          },
          "metadata": {},
          "execution_count": 227
        },
        {
          "output_type": "display_data",
          "data": {
            "image/png": "[encoded data removed]",
            "text/plain": [
              "<Figure size 432x288 with 1 Axes>"
            ]
          },
          "metadata": {
            "needs_background": "light"
          }
        }
      ]
    }
  ]
}